{
 "cells": [
  {
   "cell_type": "markdown",
   "id": "8a54b551-7fcd-4a1c-898c-a0e98b3d271a",
   "metadata": {},
   "source": [
    "# DTSC-670 Final Project\n",
    "## Student Data Predictions\n",
    "## Name: Judson Tillotson"
   ]
  },
  {
   "cell_type": "markdown",
   "id": "c5ee3c77-ffa4-4709-a9db-38fc5048e683",
   "metadata": {},
   "source": [
    "## Overview"
   ]
  },
  {
   "cell_type": "markdown",
   "id": "87091e83-df04-47bc-b532-8e5f33b806e8",
   "metadata": {},
   "source": [
    "### Business Problem\n",
    "Utilizing student data we can predict how students will perform in the upcoming term. That allows us to identify which students need a little extra help (assistance or interventions) to improve their grade. This would also allow us to identify which students are most likely to pass with flying colors, which allows us to identify students for gifted or similar program.\n",
    "\n",
    "### Frame the Problem\n",
    "I believe a supervised model that is offline is best to help us predict this data. Supervised data just means we will have labels for our data, and offline, which means we will train on a batch of data all at once. The main disadvantage to this is we will need to incrimently need to retrain data, which actually helps us as every year we will need to revisit our model to tweak it for the upcoming students. Every class is different, and they have different traits, so tweaks will undoubtedly need to happen.\n",
    "\n",
    "### Machine Learning Task\n",
    "When it comes to supervised machine learning, there are two main types: Classification and Regression.\n",
    "Classification is classifying students into a bin/group, and regression is predicting exact values. I believe as a data scientist that a Regression task makes much more sense for this exercise. There will undoubtedly be a little bit of error in our model, which means that even if we have students that are close to the line, we need to know that. Therefore we will need to have the exact number to help see who is even close to failing a class, or close to dropping a grade. \n",
    "\n",
    "### Metrics\n",
    "To measure how effective this model is, I will be creating a testing data set and run it on the model. As we know the actual grades for this data set, we will be able to tell the models error using a Mean square error, and I will also use an r2_score. \n",
    "\n",
    "Mean square error measures the average squared distance between the predicted and actual data points. In this case it would be the predicted grade and the actual data value. \n",
    "\n",
    "An r2_score is the determination of the proportion of variance in the G3 score that is predicted by the rest of the data. It is how well the regression model predicts the output data. \n",
    "\n",
    "### Everything Else\n",
    "We want to help kids succeed, and this model will help us be able to accurately predict the grade of our students. This allows us to identify failing risks and bad behaviors/traits that leads to an increase in failing. We as stakeholders in the education system of this school want to help our students pass but also learn what good behaviors look like, which this model can help us identify which good behaviors lead to more passing."
   ]
  },
  {
   "cell_type": "markdown",
   "id": "936a21e9-d8d3-4888-a8b0-f6bf3c82b475",
   "metadata": {},
   "source": [
    "## Get the Data"
   ]
  },
  {
   "cell_type": "markdown",
   "id": "c25e073c-8984-47ba-aaf4-02d352dcfc8f",
   "metadata": {},
   "source": [
    "### Data Import\n",
    "First we have our standard imports, plus importing the data"
   ]
  },
  {
   "cell_type": "code",
   "execution_count": 1,
   "id": "4603583e-b42e-427c-99ff-debf9585238d",
   "metadata": {},
   "outputs": [],
   "source": [
    "import numpy as np\n",
    "import pandas as pd \n",
    "\n",
    "student_data = pd.read_csv('student-mat.csv')"
   ]
  },
  {
   "cell_type": "markdown",
   "id": "6549e6dc-f76a-4bd5-bcea-f767e047fe35",
   "metadata": {},
   "source": [
    "### What does the data look like?"
   ]
  },
  {
   "cell_type": "code",
   "execution_count": 2,
   "id": "4fc39645-c1fa-4e7d-b02b-7abbd9c5be2b",
   "metadata": {},
   "outputs": [
    {
     "data": {
      "text/html": [
       "<div>\n",
       "<style scoped>\n",
       "    .dataframe tbody tr th:only-of-type {\n",
       "        vertical-align: middle;\n",
       "    }\n",
       "\n",
       "    .dataframe tbody tr th {\n",
       "        vertical-align: top;\n",
       "    }\n",
       "\n",
       "    .dataframe thead th {\n",
       "        text-align: right;\n",
       "    }\n",
       "</style>\n",
       "<table border=\"1\" class=\"dataframe\">\n",
       "  <thead>\n",
       "    <tr style=\"text-align: right;\">\n",
       "      <th></th>\n",
       "      <th>school</th>\n",
       "      <th>sex</th>\n",
       "      <th>age</th>\n",
       "      <th>address</th>\n",
       "      <th>famsize</th>\n",
       "      <th>Pstatus</th>\n",
       "      <th>Medu</th>\n",
       "      <th>Fedu</th>\n",
       "      <th>Mjob</th>\n",
       "      <th>Fjob</th>\n",
       "      <th>...</th>\n",
       "      <th>goout</th>\n",
       "      <th>Dalc</th>\n",
       "      <th>Walc</th>\n",
       "      <th>health</th>\n",
       "      <th>absences_G1</th>\n",
       "      <th>absences_G2</th>\n",
       "      <th>absences_G3</th>\n",
       "      <th>G1</th>\n",
       "      <th>G2</th>\n",
       "      <th>G3</th>\n",
       "    </tr>\n",
       "  </thead>\n",
       "  <tbody>\n",
       "    <tr>\n",
       "      <th>0</th>\n",
       "      <td>GP</td>\n",
       "      <td>F</td>\n",
       "      <td>18.0</td>\n",
       "      <td>U</td>\n",
       "      <td>GT3</td>\n",
       "      <td>A</td>\n",
       "      <td>4</td>\n",
       "      <td>4</td>\n",
       "      <td>at_home</td>\n",
       "      <td>teacher</td>\n",
       "      <td>...</td>\n",
       "      <td>4</td>\n",
       "      <td>1</td>\n",
       "      <td>1</td>\n",
       "      <td>3</td>\n",
       "      <td>1.0</td>\n",
       "      <td>1.0</td>\n",
       "      <td>4.0</td>\n",
       "      <td>5</td>\n",
       "      <td>6</td>\n",
       "      <td>6</td>\n",
       "    </tr>\n",
       "    <tr>\n",
       "      <th>1</th>\n",
       "      <td>GP</td>\n",
       "      <td>F</td>\n",
       "      <td>17.0</td>\n",
       "      <td>U</td>\n",
       "      <td>GT3</td>\n",
       "      <td>T</td>\n",
       "      <td>1</td>\n",
       "      <td>1</td>\n",
       "      <td>at_home</td>\n",
       "      <td>other</td>\n",
       "      <td>...</td>\n",
       "      <td>3</td>\n",
       "      <td>1</td>\n",
       "      <td>1</td>\n",
       "      <td>3</td>\n",
       "      <td>NaN</td>\n",
       "      <td>NaN</td>\n",
       "      <td>NaN</td>\n",
       "      <td>5</td>\n",
       "      <td>5</td>\n",
       "      <td>6</td>\n",
       "    </tr>\n",
       "    <tr>\n",
       "      <th>2</th>\n",
       "      <td>GP</td>\n",
       "      <td>F</td>\n",
       "      <td>15.0</td>\n",
       "      <td>U</td>\n",
       "      <td>LE3</td>\n",
       "      <td>T</td>\n",
       "      <td>1</td>\n",
       "      <td>1</td>\n",
       "      <td>at_home</td>\n",
       "      <td>other</td>\n",
       "      <td>...</td>\n",
       "      <td>2</td>\n",
       "      <td>2</td>\n",
       "      <td>3</td>\n",
       "      <td>3</td>\n",
       "      <td>1.0</td>\n",
       "      <td>1.0</td>\n",
       "      <td>8.0</td>\n",
       "      <td>7</td>\n",
       "      <td>8</td>\n",
       "      <td>10</td>\n",
       "    </tr>\n",
       "    <tr>\n",
       "      <th>3</th>\n",
       "      <td>GP</td>\n",
       "      <td>F</td>\n",
       "      <td>15.0</td>\n",
       "      <td>U</td>\n",
       "      <td>GT3</td>\n",
       "      <td>T</td>\n",
       "      <td>4</td>\n",
       "      <td>2</td>\n",
       "      <td>health</td>\n",
       "      <td>services</td>\n",
       "      <td>...</td>\n",
       "      <td>2</td>\n",
       "      <td>1</td>\n",
       "      <td>1</td>\n",
       "      <td>5</td>\n",
       "      <td>0.0</td>\n",
       "      <td>0.0</td>\n",
       "      <td>2.0</td>\n",
       "      <td>15</td>\n",
       "      <td>14</td>\n",
       "      <td>15</td>\n",
       "    </tr>\n",
       "    <tr>\n",
       "      <th>4</th>\n",
       "      <td>GP</td>\n",
       "      <td>F</td>\n",
       "      <td>NaN</td>\n",
       "      <td>U</td>\n",
       "      <td>GT3</td>\n",
       "      <td>T</td>\n",
       "      <td>3</td>\n",
       "      <td>3</td>\n",
       "      <td>other</td>\n",
       "      <td>other</td>\n",
       "      <td>...</td>\n",
       "      <td>2</td>\n",
       "      <td>1</td>\n",
       "      <td>2</td>\n",
       "      <td>5</td>\n",
       "      <td>0.0</td>\n",
       "      <td>0.0</td>\n",
       "      <td>4.0</td>\n",
       "      <td>6</td>\n",
       "      <td>10</td>\n",
       "      <td>10</td>\n",
       "    </tr>\n",
       "  </tbody>\n",
       "</table>\n",
       "<p>5 rows × 35 columns</p>\n",
       "</div>"
      ],
      "text/plain": [
       "  school sex   age address famsize Pstatus  Medu  Fedu     Mjob      Fjob  \\\n",
       "0     GP   F  18.0       U     GT3       A     4     4  at_home   teacher   \n",
       "1     GP   F  17.0       U     GT3       T     1     1  at_home     other   \n",
       "2     GP   F  15.0       U     LE3       T     1     1  at_home     other   \n",
       "3     GP   F  15.0       U     GT3       T     4     2   health  services   \n",
       "4     GP   F   NaN       U     GT3       T     3     3    other     other   \n",
       "\n",
       "   ... goout Dalc  Walc  health  absences_G1 absences_G2 absences_G3  G1  G2  \\\n",
       "0  ...     4    1     1       3          1.0         1.0         4.0   5   6   \n",
       "1  ...     3    1     1       3          NaN         NaN         NaN   5   5   \n",
       "2  ...     2    2     3       3          1.0         1.0         8.0   7   8   \n",
       "3  ...     2    1     1       5          0.0         0.0         2.0  15  14   \n",
       "4  ...     2    1     2       5          0.0         0.0         4.0   6  10   \n",
       "\n",
       "   G3  \n",
       "0   6  \n",
       "1   6  \n",
       "2  10  \n",
       "3  15  \n",
       "4  10  \n",
       "\n",
       "[5 rows x 35 columns]"
      ]
     },
     "execution_count": 2,
     "metadata": {},
     "output_type": "execute_result"
    }
   ],
   "source": [
    "student_data.head()"
   ]
  },
  {
   "cell_type": "markdown",
   "id": "7c3599d1-0704-4c44-a889-ee109cd87aae",
   "metadata": {},
   "source": [
    "Already this tells me that we have some missing data, both in the absences but also in the age. It also helps us have context for what the column names and information above shows up in the data frame."
   ]
  },
  {
   "cell_type": "code",
   "execution_count": 3,
   "id": "801f077f-e9d5-44a0-82ac-e4b271856224",
   "metadata": {},
   "outputs": [
    {
     "name": "stdout",
     "output_type": "stream",
     "text": [
      "<class 'pandas.core.frame.DataFrame'>\n",
      "RangeIndex: 395 entries, 0 to 394\n",
      "Data columns (total 35 columns):\n",
      " #   Column       Non-Null Count  Dtype  \n",
      "---  ------       --------------  -----  \n",
      " 0   school       395 non-null    object \n",
      " 1   sex          395 non-null    object \n",
      " 2   age          383 non-null    float64\n",
      " 3   address      395 non-null    object \n",
      " 4   famsize      395 non-null    object \n",
      " 5   Pstatus      395 non-null    object \n",
      " 6   Medu         395 non-null    int64  \n",
      " 7   Fedu         395 non-null    int64  \n",
      " 8   Mjob         395 non-null    object \n",
      " 9   Fjob         395 non-null    object \n",
      " 10  reason       395 non-null    object \n",
      " 11  guardian     395 non-null    object \n",
      " 12  traveltime   395 non-null    int64  \n",
      " 13  studytime    395 non-null    int64  \n",
      " 14  failures     395 non-null    int64  \n",
      " 15  schoolsup    395 non-null    object \n",
      " 16  famsup       395 non-null    object \n",
      " 17  paid         395 non-null    object \n",
      " 18  activities   395 non-null    object \n",
      " 19  nursery      395 non-null    object \n",
      " 20  higher       395 non-null    object \n",
      " 21  internet     395 non-null    object \n",
      " 22  romantic     395 non-null    object \n",
      " 23  famrel       395 non-null    int64  \n",
      " 24  freetime     395 non-null    int64  \n",
      " 25  goout        395 non-null    int64  \n",
      " 26  Dalc         395 non-null    int64  \n",
      " 27  Walc         395 non-null    int64  \n",
      " 28  health       395 non-null    int64  \n",
      " 29  absences_G1  381 non-null    float64\n",
      " 30  absences_G2  381 non-null    float64\n",
      " 31  absences_G3  381 non-null    float64\n",
      " 32  G1           395 non-null    int64  \n",
      " 33  G2           395 non-null    int64  \n",
      " 34  G3           395 non-null    int64  \n",
      "dtypes: float64(4), int64(14), object(17)\n",
      "memory usage: 108.1+ KB\n"
     ]
    }
   ],
   "source": [
    "student_data.info()"
   ]
  },
  {
   "cell_type": "markdown",
   "id": "e178e89c-5ee6-4cc7-aa47-596bfe65634e",
   "metadata": {},
   "source": [
    "This gives us the assurance that yes we have the right column names, but it also helps us see which columns are integers (1,2,3 etc.), which are float(1,1.1,1.001 etc.), and which are categories or words, which show up as object type. "
   ]
  },
  {
   "cell_type": "code",
   "execution_count": 4,
   "id": "91dc1f8a-6b64-4ad1-aa55-b6dfbed43524",
   "metadata": {},
   "outputs": [
    {
     "data": {
      "text/html": [
       "<div>\n",
       "<style scoped>\n",
       "    .dataframe tbody tr th:only-of-type {\n",
       "        vertical-align: middle;\n",
       "    }\n",
       "\n",
       "    .dataframe tbody tr th {\n",
       "        vertical-align: top;\n",
       "    }\n",
       "\n",
       "    .dataframe thead th {\n",
       "        text-align: right;\n",
       "    }\n",
       "</style>\n",
       "<table border=\"1\" class=\"dataframe\">\n",
       "  <thead>\n",
       "    <tr style=\"text-align: right;\">\n",
       "      <th></th>\n",
       "      <th>age</th>\n",
       "      <th>Medu</th>\n",
       "      <th>Fedu</th>\n",
       "      <th>traveltime</th>\n",
       "      <th>studytime</th>\n",
       "      <th>failures</th>\n",
       "      <th>famrel</th>\n",
       "      <th>freetime</th>\n",
       "      <th>goout</th>\n",
       "      <th>Dalc</th>\n",
       "      <th>Walc</th>\n",
       "      <th>health</th>\n",
       "      <th>absences_G1</th>\n",
       "      <th>absences_G2</th>\n",
       "      <th>absences_G3</th>\n",
       "      <th>G1</th>\n",
       "      <th>G2</th>\n",
       "      <th>G3</th>\n",
       "    </tr>\n",
       "  </thead>\n",
       "  <tbody>\n",
       "    <tr>\n",
       "      <th>count</th>\n",
       "      <td>383.000000</td>\n",
       "      <td>395.000000</td>\n",
       "      <td>395.000000</td>\n",
       "      <td>395.000000</td>\n",
       "      <td>395.000000</td>\n",
       "      <td>395.000000</td>\n",
       "      <td>395.000000</td>\n",
       "      <td>395.000000</td>\n",
       "      <td>395.000000</td>\n",
       "      <td>395.000000</td>\n",
       "      <td>395.000000</td>\n",
       "      <td>395.000000</td>\n",
       "      <td>381.000000</td>\n",
       "      <td>381.000000</td>\n",
       "      <td>381.000000</td>\n",
       "      <td>395.000000</td>\n",
       "      <td>395.000000</td>\n",
       "      <td>395.000000</td>\n",
       "    </tr>\n",
       "    <tr>\n",
       "      <th>mean</th>\n",
       "      <td>16.699739</td>\n",
       "      <td>2.749367</td>\n",
       "      <td>2.521519</td>\n",
       "      <td>1.448101</td>\n",
       "      <td>2.035443</td>\n",
       "      <td>0.334177</td>\n",
       "      <td>3.944304</td>\n",
       "      <td>3.235443</td>\n",
       "      <td>3.108861</td>\n",
       "      <td>1.481013</td>\n",
       "      <td>2.291139</td>\n",
       "      <td>3.554430</td>\n",
       "      <td>0.669291</td>\n",
       "      <td>0.669291</td>\n",
       "      <td>4.325459</td>\n",
       "      <td>10.908861</td>\n",
       "      <td>10.713924</td>\n",
       "      <td>10.415190</td>\n",
       "    </tr>\n",
       "    <tr>\n",
       "      <th>std</th>\n",
       "      <td>1.280615</td>\n",
       "      <td>1.094735</td>\n",
       "      <td>1.088201</td>\n",
       "      <td>0.697505</td>\n",
       "      <td>0.839240</td>\n",
       "      <td>0.743651</td>\n",
       "      <td>0.896659</td>\n",
       "      <td>0.998862</td>\n",
       "      <td>1.113278</td>\n",
       "      <td>0.890741</td>\n",
       "      <td>1.287897</td>\n",
       "      <td>1.390303</td>\n",
       "      <td>1.300132</td>\n",
       "      <td>1.300132</td>\n",
       "      <td>5.526882</td>\n",
       "      <td>3.319195</td>\n",
       "      <td>3.761505</td>\n",
       "      <td>4.581443</td>\n",
       "    </tr>\n",
       "    <tr>\n",
       "      <th>min</th>\n",
       "      <td>15.000000</td>\n",
       "      <td>0.000000</td>\n",
       "      <td>0.000000</td>\n",
       "      <td>1.000000</td>\n",
       "      <td>1.000000</td>\n",
       "      <td>0.000000</td>\n",
       "      <td>1.000000</td>\n",
       "      <td>1.000000</td>\n",
       "      <td>1.000000</td>\n",
       "      <td>1.000000</td>\n",
       "      <td>1.000000</td>\n",
       "      <td>1.000000</td>\n",
       "      <td>0.000000</td>\n",
       "      <td>0.000000</td>\n",
       "      <td>0.000000</td>\n",
       "      <td>3.000000</td>\n",
       "      <td>0.000000</td>\n",
       "      <td>0.000000</td>\n",
       "    </tr>\n",
       "    <tr>\n",
       "      <th>25%</th>\n",
       "      <td>16.000000</td>\n",
       "      <td>2.000000</td>\n",
       "      <td>2.000000</td>\n",
       "      <td>1.000000</td>\n",
       "      <td>1.000000</td>\n",
       "      <td>0.000000</td>\n",
       "      <td>4.000000</td>\n",
       "      <td>3.000000</td>\n",
       "      <td>2.000000</td>\n",
       "      <td>1.000000</td>\n",
       "      <td>1.000000</td>\n",
       "      <td>3.000000</td>\n",
       "      <td>0.000000</td>\n",
       "      <td>0.000000</td>\n",
       "      <td>0.000000</td>\n",
       "      <td>8.000000</td>\n",
       "      <td>9.000000</td>\n",
       "      <td>8.000000</td>\n",
       "    </tr>\n",
       "    <tr>\n",
       "      <th>50%</th>\n",
       "      <td>17.000000</td>\n",
       "      <td>3.000000</td>\n",
       "      <td>2.000000</td>\n",
       "      <td>1.000000</td>\n",
       "      <td>2.000000</td>\n",
       "      <td>0.000000</td>\n",
       "      <td>4.000000</td>\n",
       "      <td>3.000000</td>\n",
       "      <td>3.000000</td>\n",
       "      <td>1.000000</td>\n",
       "      <td>2.000000</td>\n",
       "      <td>4.000000</td>\n",
       "      <td>0.000000</td>\n",
       "      <td>0.000000</td>\n",
       "      <td>4.000000</td>\n",
       "      <td>11.000000</td>\n",
       "      <td>11.000000</td>\n",
       "      <td>11.000000</td>\n",
       "    </tr>\n",
       "    <tr>\n",
       "      <th>75%</th>\n",
       "      <td>18.000000</td>\n",
       "      <td>4.000000</td>\n",
       "      <td>3.000000</td>\n",
       "      <td>2.000000</td>\n",
       "      <td>2.000000</td>\n",
       "      <td>0.000000</td>\n",
       "      <td>5.000000</td>\n",
       "      <td>4.000000</td>\n",
       "      <td>4.000000</td>\n",
       "      <td>2.000000</td>\n",
       "      <td>3.000000</td>\n",
       "      <td>5.000000</td>\n",
       "      <td>1.000000</td>\n",
       "      <td>1.000000</td>\n",
       "      <td>6.000000</td>\n",
       "      <td>13.000000</td>\n",
       "      <td>13.000000</td>\n",
       "      <td>14.000000</td>\n",
       "    </tr>\n",
       "    <tr>\n",
       "      <th>max</th>\n",
       "      <td>22.000000</td>\n",
       "      <td>4.000000</td>\n",
       "      <td>4.000000</td>\n",
       "      <td>4.000000</td>\n",
       "      <td>4.000000</td>\n",
       "      <td>3.000000</td>\n",
       "      <td>5.000000</td>\n",
       "      <td>5.000000</td>\n",
       "      <td>5.000000</td>\n",
       "      <td>5.000000</td>\n",
       "      <td>5.000000</td>\n",
       "      <td>5.000000</td>\n",
       "      <td>12.000000</td>\n",
       "      <td>12.000000</td>\n",
       "      <td>51.000000</td>\n",
       "      <td>19.000000</td>\n",
       "      <td>19.000000</td>\n",
       "      <td>20.000000</td>\n",
       "    </tr>\n",
       "  </tbody>\n",
       "</table>\n",
       "</div>"
      ],
      "text/plain": [
       "              age        Medu        Fedu  traveltime   studytime    failures  \\\n",
       "count  383.000000  395.000000  395.000000  395.000000  395.000000  395.000000   \n",
       "mean    16.699739    2.749367    2.521519    1.448101    2.035443    0.334177   \n",
       "std      1.280615    1.094735    1.088201    0.697505    0.839240    0.743651   \n",
       "min     15.000000    0.000000    0.000000    1.000000    1.000000    0.000000   \n",
       "25%     16.000000    2.000000    2.000000    1.000000    1.000000    0.000000   \n",
       "50%     17.000000    3.000000    2.000000    1.000000    2.000000    0.000000   \n",
       "75%     18.000000    4.000000    3.000000    2.000000    2.000000    0.000000   \n",
       "max     22.000000    4.000000    4.000000    4.000000    4.000000    3.000000   \n",
       "\n",
       "           famrel    freetime       goout        Dalc        Walc      health  \\\n",
       "count  395.000000  395.000000  395.000000  395.000000  395.000000  395.000000   \n",
       "mean     3.944304    3.235443    3.108861    1.481013    2.291139    3.554430   \n",
       "std      0.896659    0.998862    1.113278    0.890741    1.287897    1.390303   \n",
       "min      1.000000    1.000000    1.000000    1.000000    1.000000    1.000000   \n",
       "25%      4.000000    3.000000    2.000000    1.000000    1.000000    3.000000   \n",
       "50%      4.000000    3.000000    3.000000    1.000000    2.000000    4.000000   \n",
       "75%      5.000000    4.000000    4.000000    2.000000    3.000000    5.000000   \n",
       "max      5.000000    5.000000    5.000000    5.000000    5.000000    5.000000   \n",
       "\n",
       "       absences_G1  absences_G2  absences_G3          G1          G2  \\\n",
       "count   381.000000   381.000000   381.000000  395.000000  395.000000   \n",
       "mean      0.669291     0.669291     4.325459   10.908861   10.713924   \n",
       "std       1.300132     1.300132     5.526882    3.319195    3.761505   \n",
       "min       0.000000     0.000000     0.000000    3.000000    0.000000   \n",
       "25%       0.000000     0.000000     0.000000    8.000000    9.000000   \n",
       "50%       0.000000     0.000000     4.000000   11.000000   11.000000   \n",
       "75%       1.000000     1.000000     6.000000   13.000000   13.000000   \n",
       "max      12.000000    12.000000    51.000000   19.000000   19.000000   \n",
       "\n",
       "               G3  \n",
       "count  395.000000  \n",
       "mean    10.415190  \n",
       "std      4.581443  \n",
       "min      0.000000  \n",
       "25%      8.000000  \n",
       "50%     11.000000  \n",
       "75%     14.000000  \n",
       "max     20.000000  "
      ]
     },
     "execution_count": 4,
     "metadata": {},
     "output_type": "execute_result"
    }
   ],
   "source": [
    "student_data.describe()"
   ]
  },
  {
   "cell_type": "markdown",
   "id": "47c7e41e-c105-4b8a-92f5-0dae3b3f4425",
   "metadata": {},
   "source": [
    "This allows me to see what each numerical column looks like individually. \n",
    "To note, we have some students as old as 22, and the mean study time is larger than 2 hours per week.\n",
    "Also to note, Absences in G3 is dramatically larger than the other two. Even the largest in G1, G2 were only 12, but in G3, we have a max of 51 absences, which is astonishing, and that student definitly needs a talk, or maybe it was a medical issue or something. Either way, the student has been gone a lot. Even taking that aside, the 75th percentile is 6, whereas in G1,G2, both were only 1. That is 500% growth on previous. That shows that more students have been gone more. "
   ]
  },
  {
   "cell_type": "code",
   "execution_count": 5,
   "id": "b0cb0fe8-7ae7-4c53-86c1-ab2495e29d63",
   "metadata": {},
   "outputs": [
    {
     "data": {
      "text/plain": [
       "13825"
      ]
     },
     "execution_count": 5,
     "metadata": {},
     "output_type": "execute_result"
    }
   ],
   "source": [
    "student_data.size"
   ]
  },
  {
   "cell_type": "code",
   "execution_count": 6,
   "id": "06c6c4f8-7305-4206-8dfa-044281ef2eff",
   "metadata": {},
   "outputs": [
    {
     "data": {
      "text/plain": [
       "(395, 35)"
      ]
     },
     "execution_count": 6,
     "metadata": {},
     "output_type": "execute_result"
    }
   ],
   "source": [
    "student_data.shape"
   ]
  },
  {
   "cell_type": "markdown",
   "id": "a7c5e6b3-1120-451d-b145-c99d348ce334",
   "metadata": {},
   "source": [
    "### Column list"
   ]
  },
  {
   "cell_type": "markdown",
   "id": "a8510913-bda1-4566-ab58-47b4f71c9bcd",
   "metadata": {},
   "source": [
    "school, student's school (\"GP\" - Gabriel Pereira or \"MS\" - Mousinho da Silveira)\n",
    "\n",
    "sex, student's sex (\"F\" - female or \"M\" - male)\n",
    "\n",
    "age, student's age (numeric from 15 to 22)\n",
    "\n",
    "address, student's home address type (\"U\" - urban or \"R\" - rural)\n",
    "\n",
    "famsize, family size (\"LE3\" - less or equal to 3 or \"GT3\" - greater than 3)\n",
    "\n",
    "Pstatus, parent's cohabitation status (\"T\" - living together or \"A\" - apart)\n",
    "\n",
    "Medu, mother's education (0 - none, 1 - primary education (4th grade), 2 – 5th to 9th grade, 3 – secondary education or 4 – higher education)\n",
    "\n",
    "Fedu, father's education (0 - none, 1 - primary education (4th grade), 2 – 5th to 9thgrade, 3 – secondary education or 4 – higher education)\n",
    "\n",
    "Mjob, mother's job ( \"teacher\", \"health\" care related, civil \"services\" (e.g. administrative or police), \"at_home\" or \"other\")\n",
    "\n",
    "Fjob, father's job (\"teacher\", \"health\" care related, civil \"services\" (e.g. administrative or police), \"at_home\" or \"other\")\n",
    "\n"
   ]
  },
  {
   "cell_type": "markdown",
   "id": "0b8d177c-14c0-441a-9cd5-447db6995d3b",
   "metadata": {},
   "source": [
    "reason, reason to choose this school (close to \"home\", school \"reputation\", \"course\" preference or \"other\")\n",
    "\n",
    "guardian, student's guardian (\"mother\", \"father\" or \"other\")\n",
    "\n",
    "traveltime, home to school travel time (1 - <15 min., 2 - 15 to 30 min., 3 - 30 min. to 1 hour, or 4 - >1 hour)\n",
    "\n",
    "studytime, weekly study time (1 - <2 hours, 2 - 2 to 5 hours, 3 - 5 to 10 hours, or 4 - >10 hours)\n",
    "\n",
    "failures, number of past class failures (n if 1<=n<3, else 4)\n"
   ]
  },
  {
   "cell_type": "markdown",
   "id": "b7dbc405-203e-4cfd-be5a-c9cd1a4c9533",
   "metadata": {},
   "source": [
    "schoolsup, extra educational support (yes or no)\n",
    "\n",
    "famsup, family educational support (yes or no)\n",
    "\n",
    "paid, extra paid classes within the course subject (Math or Portuguese) (yes or no)\n",
    "\n",
    "activities, extra-curricular activities (yes or no)\n",
    "\n",
    "nursery, attended nursery school (yes or no)\n"
   ]
  },
  {
   "cell_type": "markdown",
   "id": "e69cef01-5cb2-41b6-a7e1-bf69e00fe59e",
   "metadata": {},
   "source": [
    "higher, wants to take higher education (yes or no)\n",
    "\n",
    "internet, Internet access at home (yes or no)\n",
    "\n",
    "romantic, with a romantic relationship (yes or no)\n",
    "\n",
    "famrel, quality of family relationships (from 1 - very bad to 5 - excellent)\n",
    "\n",
    "freetime, free time after school (from 1 - very low to 5 - very high)\n",
    "\n",
    "goout, going out with friends (from 1 - very low to 5 - very high)\n",
    "\n",
    "Dalc, workday alcohol consumption (from 1 - very low to 5 - very high)"
   ]
  },
  {
   "cell_type": "markdown",
   "id": "b59a5089-ba55-41c9-b81d-c0f6386221b9",
   "metadata": {},
   "source": [
    "Walc, weekend alcohol consumption (from 1 - very low to 5 - very high)\n",
    "\n",
    "health, current health status (from 1 - very bad to 5 - very good)\n",
    "\n",
    "absences_G1, number of school absences for G1 term (numeric)\n",
    "\n",
    "absences_G2, number of school absences for G2 term (numeric)\n",
    "\n",
    "absences_G3, number of school absences for G3 term (numeric)\n",
    "\n",
    "G1, first term grade (numeric: from 0 to 20)\n",
    "\n",
    "G2, second term grade (numeric: from 0 to 20)\n",
    "\n",
    "G3, final grade (numeric: from 0 to 20)\n"
   ]
  },
  {
   "cell_type": "markdown",
   "id": "bf6dec4f-8c07-47cc-beb1-61caa3954a61",
   "metadata": {},
   "source": [
    "### Target\n",
    "Our target that we want to predict is the G3 grade, We want to know what the final grade is, as that is when passing or failing grades occur. "
   ]
  },
  {
   "cell_type": "markdown",
   "id": "bcb5ac93-c9a5-4986-bfad-042e0d31a517",
   "metadata": {},
   "source": [
    "### Train/Test splitting\n",
    "I am going to break our data into our training and testing data. \n",
    "Because our model wants to predict the final grade, I will set this our output.\n",
    "I am setting the random_state to 42 to allow you to reproduce this model and will keep the same outputs."
   ]
  },
  {
   "cell_type": "code",
   "execution_count": 7,
   "id": "3bbfbf4b-b711-4214-b27c-4e0dbe06090d",
   "metadata": {},
   "outputs": [],
   "source": [
    "from sklearn.model_selection import train_test_split\n",
    "\n",
    "X=student_data.drop(columns='G3')\n",
    "y=student_data.loc[:,'G3']\n",
    "\n",
    "X_train, X_test = train_test_split(X, test_size=0.2, random_state=42)\n",
    "y_train, y_test = train_test_split(y,test_size=0.2, random_state=42)"
   ]
  },
  {
   "cell_type": "markdown",
   "id": "fefb446b-b113-4ebe-b0ef-6ab924e4639c",
   "metadata": {},
   "source": [
    "## Explore the Data\n",
    "\n",
    "### Study"
   ]
  },
  {
   "cell_type": "code",
   "execution_count": 8,
   "id": "a4f3fc90-cf0a-4565-8649-dd259dce350e",
   "metadata": {},
   "outputs": [],
   "source": [
    "#student_data.value_counts()"
   ]
  },
  {
   "cell_type": "markdown",
   "id": "c366eca4-2671-4899-a8e2-8f1d1d379908",
   "metadata": {},
   "source": [
    "Thought that would be helpful, but the value counts was a jumbled mess."
   ]
  },
  {
   "cell_type": "markdown",
   "id": "26e36d84-7066-4368-966e-93a61f98bc34",
   "metadata": {},
   "source": [
    "### Visualizations"
   ]
  },
  {
   "cell_type": "code",
   "execution_count": 9,
   "id": "2df8dd4d-54e4-40c0-9334-97e4dce18a52",
   "metadata": {},
   "outputs": [
    {
     "data": {
      "image/png": "[encoded data removed]",
      "text/plain": [
       "<Figure size 1200x800 with 20 Axes>"
      ]
     },
     "metadata": {},
     "output_type": "display_data"
    }
   ],
   "source": [
    "import matplotlib.pyplot as plt\n",
    "\n",
    "plt.rc('font', size=12)\n",
    "plt.rc('axes', labelsize=12, titlesize=10)\n",
    "plt.rc('legend', fontsize=6)\n",
    "plt.rc('xtick', labelsize=6)\n",
    "plt.rc('ytick', labelsize=6)\n",
    "\n",
    "\n",
    "# plots histograms of numerical data\n",
    "student_data.hist(bins=50, figsize=(12, 8))\n",
    "plt.tight_layout()\n",
    "plt.show()"
   ]
  },
  {
   "cell_type": "markdown",
   "id": "ce6e5dba-9dca-4239-8505-3ab3447fb6bd",
   "metadata": {},
   "source": [
    "The following groups of histograms give us some data on the norms. What is the normal age of the students, how often on average do they go out, etc. \n",
    "\n",
    "Looking at each column separately gives us information. For example, For Mother's Education, the norm appears to be higher education, but for the Father's Education, the largest grouping is at a 5th to 9th grade education. Which is interesting. \n",
    "\n",
    "For Studytime, the plurality of students study between 2 and 5 hours per week, which shows good study behavior, and if we extend that from 2 to >10 hours, then it is a sheer majority. \n",
    "\n",
    "For failures, this shows that the vast majority has never failed a class before.\n",
    "\n",
    "Famrel shows us that the majority have good relationships at home. \n",
    "\n",
    "One very important thing to note is that absences goes up quite a bit for some students when it gets to G3. The most absences in G1 and G2 was 12, but that skyrockets to about 50 in G3. We want to note that, as with that variability in the term that we are trying to predict, if we have error, it may be due to extra absences. Now some of those kids might be the ones that have given up, and they had tried in the first 2 terms, and just decided to give in to fate, but we cannot say that for certain. \n",
    "That theory is backed up a little by how the number of failures right around 0 dramatically increases as the year goes on. "
   ]
  },
  {
   "cell_type": "code",
   "execution_count": 10,
   "id": "9a5c2964-6956-4b47-a882-65f9ea84423e",
   "metadata": {
    "scrolled": true
   },
   "outputs": [
    {
     "data": {
      "image/png": "[encoded data removed]",
      "text/plain": [
       "<Figure size 640x480 with 1 Axes>"
      ]
     },
     "metadata": {},
     "output_type": "display_data"
    }
   ],
   "source": [
    "student_data.plot(kind=\"scatter\", x=\"G2\", y=\"G3\",\n",
    "             alpha=0.5, grid=True)\n",
    "plt.show()"
   ]
  },
  {
   "cell_type": "markdown",
   "id": "b452eb42-1031-4054-9f7d-595ed4ba3edc",
   "metadata": {},
   "source": [
    "As expected, G2 has a very linear looking pattern when compared with G3. That makes sense, the better you do in the previous term, the more likely you will do well in the next term."
   ]
  },
  {
   "cell_type": "code",
   "execution_count": 11,
   "id": "04647ea8-0af7-4e70-83b0-3a7bd9c26870",
   "metadata": {},
   "outputs": [
    {
     "data": {
      "text/plain": [
       "<Axes: title={'center': 'G3'}, xlabel='romantic'>"
      ]
     },
     "execution_count": 11,
     "metadata": {},
     "output_type": "execute_result"
    },
    {
     "data": {
      "image/png": "[encoded data removed]",
      "text/plain": [
       "<Figure size 640x480 with 1 Axes>"
      ]
     },
     "metadata": {},
     "output_type": "display_data"
    }
   ],
   "source": [
    "student_data.boxplot(column='G3', by='romantic')"
   ]
  },
  {
   "cell_type": "markdown",
   "id": "592deb7c-8158-42fd-8d66-0682e79c6dbc",
   "metadata": {},
   "source": [
    "The sterotype of when teenagers are in a relationship, their grades suffer shows itself to be kind of true. G3 scores seem higher for the lower group, the no relationship squad. If they are in a relationship, it appears to be a little lower. ~65% of students not in a relationship are passing, whereas ~58% of students are passing of the students who are in a relationship.  "
   ]
  },
  {
   "cell_type": "code",
   "execution_count": 12,
   "id": "4df55ccd-d9f3-4a4b-89d9-be0716778785",
   "metadata": {},
   "outputs": [
    {
     "data": {
      "text/plain": [
       "<Axes: title={'center': 'G3'}, xlabel='Pstatus'>"
      ]
     },
     "execution_count": 12,
     "metadata": {},
     "output_type": "execute_result"
    },
    {
     "data": {
      "image/png": "[encoded data removed]",
      "text/plain": [
       "<Figure size 640x480 with 1 Axes>"
      ]
     },
     "metadata": {},
     "output_type": "display_data"
    }
   ],
   "source": [
    "student_data.boxplot(column='G3', by='Pstatus')\n"
   ]
  },
  {
   "cell_type": "markdown",
   "id": "28b10653-8bf0-4916-98c2-39a871ed11fb",
   "metadata": {},
   "source": [
    "When parents are together, students have two people reminding them of their homework, or asking them how they are doing etc. \n",
    "\n",
    "I thought it would be appropro to check and see if that is backed up in the data, and it appears to be a little true. However I do not think we can safely say that this is a slam dunk. There appears to be more students failing with their parents together than with parents Apart. "
   ]
  },
  {
   "cell_type": "code",
   "execution_count": 13,
   "id": "34a02531-1afc-4d41-8961-e78da4a81a2d",
   "metadata": {},
   "outputs": [
    {
     "data": {
      "text/plain": [
       "<Axes: title={'center': 'G3'}, xlabel='famsup'>"
      ]
     },
     "execution_count": 13,
     "metadata": {},
     "output_type": "execute_result"
    },
    {
     "data": {
      "image/png": "[encoded data removed]",
      "text/plain": [
       "<Figure size 640x480 with 1 Axes>"
      ]
     },
     "metadata": {},
     "output_type": "display_data"
    }
   ],
   "source": [
    "student_data.boxplot(column='G3', by='famsup')"
   ]
  },
  {
   "cell_type": "markdown",
   "id": "325da44b-1349-4d7f-9d44-fbaf9e012b4f",
   "metadata": {},
   "source": [
    "I thought it would be good to check if a student had more family support would they be more likely to pass. It does not appear so. "
   ]
  },
  {
   "cell_type": "code",
   "execution_count": 14,
   "id": "83d1ccc4-1c9d-408b-a4d5-b175b431a6fa",
   "metadata": {
    "scrolled": true
   },
   "outputs": [
    {
     "data": {
      "text/plain": [
       "<Axes: title={'center': 'G3'}, xlabel='studytime'>"
      ]
     },
     "execution_count": 14,
     "metadata": {},
     "output_type": "execute_result"
    },
    {
     "data": {
      "image/png": "[encoded data removed]",
      "text/plain": [
       "<Figure size 640x480 with 1 Axes>"
      ]
     },
     "metadata": {},
     "output_type": "display_data"
    }
   ],
   "source": [
    "student_data.boxplot(column='G3', by='studytime')"
   ]
  },
  {
   "cell_type": "markdown",
   "id": "22bdc01c-391b-4b3e-9ccd-b217c4ca91aa",
   "metadata": {},
   "source": [
    "Studytime appears to be a great predictor, the students who study more seem to have a higher median, and the lower end of the box plots are on average higher the more they study. However, at least one from each group still got a 0 in the third term."
   ]
  },
  {
   "cell_type": "markdown",
   "id": "1478afa5-d32b-491d-a122-dd581222583c",
   "metadata": {},
   "source": [
    "### Correlations Check"
   ]
  },
  {
   "cell_type": "code",
   "execution_count": 15,
   "id": "da266336-dada-4bf6-9076-c45bbca868a0",
   "metadata": {},
   "outputs": [
    {
     "data": {
      "text/plain": [
       "G3             1.000000\n",
       "G2             0.904868\n",
       "G1             0.801468\n",
       "Medu           0.217147\n",
       "Fedu           0.152457\n",
       "studytime      0.097820\n",
       "absences_G3    0.067294\n",
       "famrel         0.051363\n",
       "absences_G1    0.012485\n",
       "absences_G2    0.012485\n",
       "freetime       0.011307\n",
       "Walc          -0.051939\n",
       "Dalc          -0.054660\n",
       "health        -0.061335\n",
       "traveltime    -0.117142\n",
       "goout         -0.132791\n",
       "age           -0.152762\n",
       "failures      -0.360415\n",
       "Name: G3, dtype: float64"
      ]
     },
     "execution_count": 15,
     "metadata": {},
     "output_type": "execute_result"
    }
   ],
   "source": [
    "num_cols = ['age','Medu','Fedu','traveltime','studytime','failures','famrel',\n",
    "            'freetime','goout','Dalc','Walc','health','absences_G1','absences_G2','absences_G3','G1','G2','G3']\n",
    "\n",
    "# compute correlations\n",
    "corr_matrix = student_data[num_cols].corr()\n",
    "corr_matrix[\"G3\"].sort_values(ascending=False)"
   ]
  },
  {
   "cell_type": "markdown",
   "id": "273ae1d0-7ba6-4b73-947b-f1d08ab52d55",
   "metadata": {},
   "source": [
    "As expected, G2 and G1 grades are by far the highest correlated groups for the numerical columns. Way in 3rd place is the failures with an inverse relationship, then Mothers/Fathers education come in fairly close together. Age and Going out also have an inverse relationship with G3, which makes sense as older students have likely failed before, and the more you go out, the less time you spend studying as time is not infinite.\n",
    "\n",
    "G2 and G1 scores are highly correlated with G3 scores, and nothing else is even moderately correlated. "
   ]
  },
  {
   "cell_type": "markdown",
   "id": "f5e4f7b0-17c2-4005-b9ce-240dbd30dbd2",
   "metadata": {},
   "source": [
    "## Prepare the Data"
   ]
  },
  {
   "cell_type": "markdown",
   "id": "dadd0a49-21ae-44ac-9f25-564b614c45be",
   "metadata": {},
   "source": [
    "### Custom Transformer"
   ]
  },
  {
   "cell_type": "code",
   "execution_count": 16,
   "id": "b7dc5dd7-a48b-4f90-b2cc-0b048db88f13",
   "metadata": {},
   "outputs": [],
   "source": [
    "from sklearn.base import BaseEstimator, TransformerMixin\n",
    "\n",
    "absences_G1_ix, absences_G2_ix, absences_G3_ix, G1_ix, G2_ix = 12,13,14,15,16\n",
    "\n",
    "class FinalTransformer(BaseEstimator, TransformerMixin):\n",
    "    def __init__(self, drop_grades):\n",
    "        self.drop_grades = drop_grades\n",
    "\n",
    "    def fit(self, X, y=None):\n",
    "        return self\n",
    "\n",
    "    def transform(self, X):\n",
    "        new_column = X[:, absences_G1_ix ] + X[:,absences_G2_ix] + X[:, absences_G3_ix]\n",
    "        \n",
    "        if self.drop_grades:\n",
    "            X_drop_grades = np.delete(X,[G1_ix,G2_ix],1)\n",
    "            X_drop_grades = np.delete(X_drop_grades,[absences_G1_ix, absences_G2_ix, absences_G3_ix],axis=1)\n",
    "            return np.c_[X_drop_grades, new_column]\n",
    "        else:\n",
    "            X_drop = np.delete(X,[absences_G1_ix, absences_G2_ix, absences_G3_ix],axis=1)\n",
    "            return np.c_[X_drop, new_column]"
   ]
  },
  {
   "cell_type": "markdown",
   "id": "8d50e229-0431-4890-a3dd-199f296c1b47",
   "metadata": {},
   "source": [
    "G1 absences, G2 absences, and G3 absences give us some important data, but if we were to add those up to total absences, we will have more useful data. \n",
    "\n",
    "On a separate note, if we could predict out outcomes without using G1 and G2 scores, than this model would be much more helpful. So I am laying the groundwork to be able to remove G1 and G2 or not depending on if I wanted to. \n",
    "This allows us, as you will see below, to break everything into a couple different possibilties. If we keep our previous scores or not. \n",
    "\n",
    "This custom transformer allows us to be more flexible. "
   ]
  },
  {
   "cell_type": "markdown",
   "id": "842cb2b9-5253-49f4-9d3c-c54ab76fc13e",
   "metadata": {},
   "source": [
    "### Pipeline"
   ]
  },
  {
   "cell_type": "code",
   "execution_count": 17,
   "id": "c70a4944-8cdc-4012-8a32-d87898d93fa9",
   "metadata": {},
   "outputs": [],
   "source": [
    "from sklearn.pipeline import make_pipeline\n",
    "from sklearn.svm import LinearSVC\n",
    "from sklearn.preprocessing import StandardScaler, OneHotEncoder, MinMaxScaler\n",
    "from sklearn.impute import SimpleImputer\n",
    "from sklearn.feature_selection import SelectFromModel\n",
    "\n",
    "num_pipeline_1 = make_pipeline(\n",
    "        (SimpleImputer(strategy=\"mean\")), \n",
    "      #  (MinMaxScaler()),\n",
    "        (FinalTransformer(drop_grades = True)),\n",
    "        (StandardScaler()), \n",
    "    )\n",
    "num_pipeline_2 = make_pipeline(\n",
    "        (SimpleImputer(strategy=\"mean\")), \n",
    "      #  (MinMaxScaler()),\n",
    "        (FinalTransformer(drop_grades = False)),\n",
    "        (StandardScaler()), \n",
    "    )"
   ]
  },
  {
   "cell_type": "markdown",
   "id": "d473b162-d918-4b4b-8b98-ba159c66796f",
   "metadata": {},
   "source": [
    "I created 2 separate pipelines depending on if we were going to keep our grade data or not. Thus, we can transform our data twice below. \n",
    "I also wanted to impute the means into our missing values, that way we can keep it as close as possible, and who knows if the data being input into this model will have all the columns completed or not.\n",
    "\n",
    "Next I scaled my data to allow it to be standardized. Standardizing your data allows for consistency among the various columns, thereby allowing it to be easier to understand and use. \n",
    "\n",
    "I used the Final Transformer that I created above, the top pipline is creating out dataset with dropping the grades. This is where that happens. "
   ]
  },
  {
   "cell_type": "markdown",
   "id": "705726a1-d481-4fac-a086-ac2a9c09c41b",
   "metadata": {},
   "source": [
    "### Non-Numeric Data"
   ]
  },
  {
   "cell_type": "code",
   "execution_count": 18,
   "id": "75f4b670-f45e-4a07-992c-f30f791f0254",
   "metadata": {},
   "outputs": [],
   "source": [
    "cat_pipeline = make_pipeline(\n",
    "        SimpleImputer(strategy=\"most_frequent\"),\n",
    "        OneHotEncoder(drop='first',sparse_output=False),\n",
    "    )"
   ]
  },
  {
   "cell_type": "markdown",
   "id": "1bb808fb-0c6e-4734-925f-31515dda0b4c",
   "metadata": {},
   "source": [
    "We unfortunately do not have all numeric data, so we need to work with our \"object\" columns. Here I created a pipline to allow us to process out categorical data as well, with the SimpleImputer fixing any missing data with whatever our Mode or most frequent data value for the various columns are. That allows us to have the understanding and assurance that any future data has the appropriate columns all filled. \n",
    "\n",
    "The One Hot Encoder allows us to treat the categorical data as numerical data for the below Machine Learning Algorithm. It creates several new columns of 1's and 0's for each categorical group, and then it will drop the first column to simplify our data set down. It Encodes our data into a language that the computer can understand. That is the standard practice during One Hot Encoding."
   ]
  },
  {
   "cell_type": "markdown",
   "id": "1a002f0e-ea73-4ff6-bdfa-33bc4d4338b3",
   "metadata": {},
   "source": [
    "### Column Transformer"
   ]
  },
  {
   "cell_type": "code",
   "execution_count": 19,
   "id": "5e9baf81-7240-449a-9432-e890584a7356",
   "metadata": {},
   "outputs": [],
   "source": [
    "num_attributes = ['age','Medu','Fedu','traveltime','studytime','failures','famrel',\n",
    "                  'freetime','goout','Dalc','Walc','health','absences_G1','absences_G2','absences_G3','G1','G2']\n",
    "cat_attributes = ['school','sex','address','famsize','Pstatus','Mjob','Fjob','reason','guardian','schoolsup','famsup','paid','activities','nursery',\n",
    "                  'higher','internet','romantic']"
   ]
  },
  {
   "cell_type": "markdown",
   "id": "1ff03640-78d3-4e5a-928a-d40d5a7aee8c",
   "metadata": {},
   "source": [
    "Now as previously discovered, we do not have all numerical columns, but we do not want to disregard that data, because it could be the difference between a good model and a bad one. So, we need to separate our columns to numerical and not. Above I went through and typed them out. \n",
    "\n",
    "There are ways to do it without writing out every column name, but I wanted to make sure that I was not missing any."
   ]
  },
  {
   "cell_type": "code",
   "execution_count": 20,
   "id": "3c00d02d-8b7b-4722-ba84-1c661913312c",
   "metadata": {},
   "outputs": [],
   "source": [
    "from sklearn.compose import ColumnTransformer\n",
    "\n",
    "preprocessing_1 = ColumnTransformer([\n",
    "        (\"num\", num_pipeline_1, num_attributes),\n",
    "        (\"cat\", cat_pipeline, cat_attributes),\n",
    "])\n",
    "\n",
    "preprocessing_2 = ColumnTransformer([\n",
    "        (\"num\", num_pipeline_2, num_attributes),\n",
    "        (\"cat\", cat_pipeline, cat_attributes),\n",
    "])"
   ]
  },
  {
   "cell_type": "markdown",
   "id": "b427680d-1617-4601-a8b1-79b465a15f6c",
   "metadata": {},
   "source": [
    "Here is our column transformer, which utilizes the above pipelines on our data, I created the two transformers. The transformers are combining everything above and gets it ready to process the data before trying to do any predictions."
   ]
  },
  {
   "cell_type": "markdown",
   "id": "3eda9fb0-ce79-4e8c-8d48-b916633fd8a4",
   "metadata": {},
   "source": [
    "### Transform the Two training sets"
   ]
  },
  {
   "cell_type": "code",
   "execution_count": 21,
   "id": "a1177008-ccab-480a-beb2-ffc297db0183",
   "metadata": {},
   "outputs": [],
   "source": [
    "X_train_2=X_train.copy()"
   ]
  },
  {
   "cell_type": "markdown",
   "id": "a82c5ded-27cd-4cbb-8d6a-fed3119c1064",
   "metadata": {},
   "source": [
    "As we have two transformers, I want two sets of data, one with the grades and one without. So I am copying the data so there is no overriding."
   ]
  },
  {
   "cell_type": "code",
   "execution_count": 22,
   "id": "825e6e0b-0d64-4736-a772-d3741e5b4f2f",
   "metadata": {},
   "outputs": [],
   "source": [
    "X_train_prepared_grades = preprocessing_2.fit_transform(X_train)\n"
   ]
  },
  {
   "cell_type": "markdown",
   "id": "1ba32525-9a8c-47fd-b874-d070b0c14771",
   "metadata": {},
   "source": [
    "In this cell we prepare the train data with grades by fitting and transforming our data to our processing column transformer and pipelines created above."
   ]
  },
  {
   "cell_type": "code",
   "execution_count": 23,
   "id": "b1075230-c0e8-47eb-af10-0cd4691f9ccc",
   "metadata": {},
   "outputs": [
    {
     "data": {
      "text/plain": [
       "(316, 41)"
      ]
     },
     "execution_count": 23,
     "metadata": {},
     "output_type": "execute_result"
    }
   ],
   "source": [
    "X_train_prepared_grades.shape"
   ]
  },
  {
   "cell_type": "markdown",
   "id": "195d317d-11a0-4346-8ff6-349efc28ebc0",
   "metadata": {},
   "source": [
    "As you can see, our shape is 316 rows by 41 columns. "
   ]
  },
  {
   "cell_type": "code",
   "execution_count": 24,
   "id": "aa5acc97-080c-4979-897c-edca6e53d6a7",
   "metadata": {},
   "outputs": [],
   "source": [
    "X_train_prepared_no_grades = preprocessing_1.fit_transform(X_train_2)"
   ]
  },
  {
   "cell_type": "markdown",
   "id": "bca35609-4a73-43fd-b1ac-fb6ec14e3a5e",
   "metadata": {},
   "source": [
    "Using our copy of our data so that we have no override from the previous processing, we fit and transform our data and get rid of the grade columns."
   ]
  },
  {
   "cell_type": "code",
   "execution_count": 25,
   "id": "291887ad-bd6d-4dd0-8ff5-528478af663f",
   "metadata": {},
   "outputs": [
    {
     "data": {
      "text/plain": [
       "(316, 39)"
      ]
     },
     "execution_count": 25,
     "metadata": {},
     "output_type": "execute_result"
    }
   ],
   "source": [
    "X_train_prepared_no_grades.shape"
   ]
  },
  {
   "cell_type": "markdown",
   "id": "55ecdedc-0ef0-4bdf-a7de-509edcda00b6",
   "metadata": {},
   "source": [
    "This shape is 316 rows by 39 columns. That means that we have successfully dropped our grade columns. "
   ]
  },
  {
   "cell_type": "markdown",
   "id": "ffb01a06-08e0-4c6c-a258-27fb98444a9b",
   "metadata": {},
   "source": [
    "## Promising Models"
   ]
  },
  {
   "cell_type": "markdown",
   "id": "f42d8c21-5b94-440c-8ada-a86c46903cea",
   "metadata": {},
   "source": [
    "### Models"
   ]
  },
  {
   "cell_type": "code",
   "execution_count": 26,
   "id": "14f90c76-96a3-4b15-83a6-ed8770edb8ec",
   "metadata": {},
   "outputs": [],
   "source": [
    "from sklearn.linear_model import LinearRegression\n",
    "\n",
    "ols_model=LinearRegression()\n",
    "ols_model_grades = ols_model.fit(X_train_prepared_grades,y_train)\n",
    "ols_model_no_grades = ols_model.fit(X_train_prepared_no_grades,y_train)"
   ]
  },
  {
   "cell_type": "markdown",
   "id": "eb3fa574-54fe-40ba-95e5-9ddb9655091b",
   "metadata": {},
   "source": [
    "One of the most common models for Machine learning algorithms is Linear Regression, so this is one I have chosen to try."
   ]
  },
  {
   "cell_type": "code",
   "execution_count": 27,
   "id": "b3d0184c-d870-446c-81b4-4e5712ba13a2",
   "metadata": {},
   "outputs": [],
   "source": [
    "from sklearn.linear_model import SGDRegressor\n",
    "\n",
    "sgd_model=SGDRegressor(penalty=None, max_iter=10000, random_state=42, learning_rate='constant', n_iter_no_change=100)\n",
    "sgd_model_grades = sgd_model.fit(X_train_prepared_grades,y_train)\n",
    "sgd_model_no_grades = sgd_model.fit(X_train_prepared_no_grades,y_train)"
   ]
  },
  {
   "cell_type": "markdown",
   "id": "f9d3a143-3c33-4636-909f-f3da9d715f9b",
   "metadata": {},
   "source": [
    "Another I am trying is an SGD Regressor which stands for Stochastic Gradient Descent, which means the loss is estimated each sample at a time, and the model is updated sample by sample until there is a nice regression line created. "
   ]
  },
  {
   "cell_type": "code",
   "execution_count": 28,
   "id": "acf9a0bb-d838-49ef-b5f3-9f7753af61f6",
   "metadata": {},
   "outputs": [],
   "source": [
    "from sklearn.linear_model import Ridge\n",
    "\n",
    "ridge_model = Ridge(random_state=42)\n",
    "ridge_model_grades = ridge_model.fit(X_train_prepared_grades,y_train)\n",
    "ridge_model_no_grades = ridge_model.fit(X_train_prepared_no_grades,y_train)"
   ]
  },
  {
   "cell_type": "markdown",
   "id": "74fa9310-3d7f-41d8-9d6f-3a609e65f955",
   "metadata": {},
   "source": [
    "The third model chosen is a Ridge model. Ridge regresion is a method that strives to reduce errors from overfitting the data. It corrects this errors and allows us to create an unbiased esimator. "
   ]
  },
  {
   "cell_type": "markdown",
   "id": "e2ab63ad-5e91-46b6-bf85-c3129549ac18",
   "metadata": {},
   "source": [
    "### Comparison"
   ]
  },
  {
   "cell_type": "code",
   "execution_count": 29,
   "id": "29328536-1fa8-4e7d-b8db-dadcfc0cac48",
   "metadata": {},
   "outputs": [],
   "source": [
    "from sklearn.model_selection import cross_val_score\n",
    "ols_rmses_grades = -cross_val_score(ols_model_grades, X_train_prepared_grades, y_train,\n",
    "                              scoring=\"neg_root_mean_squared_error\", cv=10)\n",
    "sgd_rmses_grades =  -cross_val_score(sgd_model_grades, X_train_prepared_grades, y_train,\n",
    "                              scoring=\"neg_root_mean_squared_error\", cv=10)\n",
    "ridge_rmses_grades = -cross_val_score(ridge_model_grades, X_train_prepared_grades, y_train,\n",
    "                              scoring=\"neg_root_mean_squared_error\", cv=10)\n"
   ]
  },
  {
   "cell_type": "markdown",
   "id": "c68d7537-7196-4480-a140-a84399a0748e",
   "metadata": {},
   "source": [
    "I calculated our RMSE, or Root mean square error and I am cross validating our errors based on the data with the grades. This creates 10 scores from each model, and I am going to see which model is best."
   ]
  },
  {
   "cell_type": "code",
   "execution_count": 30,
   "id": "b72b54a6-e507-48ed-ba20-e7428d5d8000",
   "metadata": {},
   "outputs": [],
   "source": [
    "ols_grades=pd.Series(ols_rmses_grades)\n",
    "sgd_grades=pd.Series(sgd_rmses_grades)\n",
    "ridge_grades=pd.Series(ridge_rmses_grades)"
   ]
  },
  {
   "cell_type": "code",
   "execution_count": 31,
   "id": "5bba5eaa-b68e-47bc-8a18-f10253387b05",
   "metadata": {},
   "outputs": [
    {
     "data": {
      "text/html": [
       "<div>\n",
       "<style scoped>\n",
       "    .dataframe tbody tr th:only-of-type {\n",
       "        vertical-align: middle;\n",
       "    }\n",
       "\n",
       "    .dataframe tbody tr th {\n",
       "        vertical-align: top;\n",
       "    }\n",
       "\n",
       "    .dataframe thead th {\n",
       "        text-align: right;\n",
       "    }\n",
       "</style>\n",
       "<table border=\"1\" class=\"dataframe\">\n",
       "  <thead>\n",
       "    <tr style=\"text-align: right;\">\n",
       "      <th></th>\n",
       "      <th>0</th>\n",
       "      <th>1</th>\n",
       "      <th>2</th>\n",
       "      <th>3</th>\n",
       "      <th>4</th>\n",
       "      <th>5</th>\n",
       "      <th>6</th>\n",
       "      <th>7</th>\n",
       "      <th>8</th>\n",
       "      <th>9</th>\n",
       "    </tr>\n",
       "  </thead>\n",
       "  <tbody>\n",
       "    <tr>\n",
       "      <th>linear</th>\n",
       "      <td>2.107376</td>\n",
       "      <td>2.110296</td>\n",
       "      <td>1.133887</td>\n",
       "      <td>1.811351</td>\n",
       "      <td>1.936618</td>\n",
       "      <td>1.752874</td>\n",
       "      <td>1.878281</td>\n",
       "      <td>2.414967</td>\n",
       "      <td>1.760654</td>\n",
       "      <td>1.973922</td>\n",
       "    </tr>\n",
       "    <tr>\n",
       "      <th>SGD</th>\n",
       "      <td>2.168201</td>\n",
       "      <td>2.243335</td>\n",
       "      <td>1.168754</td>\n",
       "      <td>1.925986</td>\n",
       "      <td>1.760351</td>\n",
       "      <td>1.992761</td>\n",
       "      <td>1.780906</td>\n",
       "      <td>2.540160</td>\n",
       "      <td>1.731210</td>\n",
       "      <td>2.032297</td>\n",
       "    </tr>\n",
       "    <tr>\n",
       "      <th>Ridge</th>\n",
       "      <td>2.108159</td>\n",
       "      <td>2.095252</td>\n",
       "      <td>1.131231</td>\n",
       "      <td>1.804911</td>\n",
       "      <td>1.923586</td>\n",
       "      <td>1.748143</td>\n",
       "      <td>1.866757</td>\n",
       "      <td>2.407849</td>\n",
       "      <td>1.745622</td>\n",
       "      <td>1.951590</td>\n",
       "    </tr>\n",
       "  </tbody>\n",
       "</table>\n",
       "</div>"
      ],
      "text/plain": [
       "               0         1         2         3         4         5         6  \\\n",
       "linear  2.107376  2.110296  1.133887  1.811351  1.936618  1.752874  1.878281   \n",
       "SGD     2.168201  2.243335  1.168754  1.925986  1.760351  1.992761  1.780906   \n",
       "Ridge   2.108159  2.095252  1.131231  1.804911  1.923586  1.748143  1.866757   \n",
       "\n",
       "               7         8         9  \n",
       "linear  2.414967  1.760654  1.973922  \n",
       "SGD     2.540160  1.731210  2.032297  \n",
       "Ridge   2.407849  1.745622  1.951590  "
      ]
     },
     "execution_count": 31,
     "metadata": {},
     "output_type": "execute_result"
    }
   ],
   "source": [
    "pd.DataFrame([ols_grades,sgd_grades,ridge_grades],index=['linear','SGD','Ridge'])"
   ]
  },
  {
   "cell_type": "markdown",
   "id": "1961aea8-8696-4402-8ca8-bebd0b67429f",
   "metadata": {},
   "source": [
    "This created a Series or list for each of the RMSE for the data with grades."
   ]
  },
  {
   "cell_type": "code",
   "execution_count": 32,
   "id": "5d4ea6e4-3044-4a1b-928f-346807fa6d8e",
   "metadata": {},
   "outputs": [
    {
     "data": {
      "text/html": [
       "<div>\n",
       "<style scoped>\n",
       "    .dataframe tbody tr th:only-of-type {\n",
       "        vertical-align: middle;\n",
       "    }\n",
       "\n",
       "    .dataframe tbody tr th {\n",
       "        vertical-align: top;\n",
       "    }\n",
       "\n",
       "    .dataframe thead th {\n",
       "        text-align: right;\n",
       "    }\n",
       "</style>\n",
       "<table border=\"1\" class=\"dataframe\">\n",
       "  <thead>\n",
       "    <tr style=\"text-align: right;\">\n",
       "      <th></th>\n",
       "      <th>0</th>\n",
       "    </tr>\n",
       "  </thead>\n",
       "  <tbody>\n",
       "    <tr>\n",
       "      <th>linear</th>\n",
       "      <td>1.888023</td>\n",
       "    </tr>\n",
       "    <tr>\n",
       "      <th>SGD</th>\n",
       "      <td>1.934396</td>\n",
       "    </tr>\n",
       "    <tr>\n",
       "      <th>Ridge</th>\n",
       "      <td>1.878310</td>\n",
       "    </tr>\n",
       "  </tbody>\n",
       "</table>\n",
       "</div>"
      ],
      "text/plain": [
       "               0\n",
       "linear  1.888023\n",
       "SGD     1.934396\n",
       "Ridge   1.878310"
      ]
     },
     "execution_count": 32,
     "metadata": {},
     "output_type": "execute_result"
    }
   ],
   "source": [
    "ols_mean_grades=np.mean(ols_rmses_grades)\n",
    "sgd_mean_grades=np.mean(sgd_rmses_grades)\n",
    "ridge_mean_grades=np.mean(ridge_rmses_grades)\n",
    "pd.DataFrame([ols_mean_grades,sgd_mean_grades,ridge_mean_grades],index=['linear','SGD','Ridge'])"
   ]
  },
  {
   "cell_type": "markdown",
   "id": "68d3413e-1089-4e4c-b599-07314e46d614",
   "metadata": {},
   "source": [
    "Here are the means of the rows above, which allos us to see which model is best (lowest error).\n",
    "\n",
    "Just to note, Ridge has the lowest error shown, but we will see what happens without the grades. "
   ]
  },
  {
   "cell_type": "code",
   "execution_count": 33,
   "id": "21f4bd28-635a-4e7c-90a7-df6d9864361e",
   "metadata": {},
   "outputs": [],
   "source": [
    "ols_rmses_no_grades = -cross_val_score(ols_model_no_grades, X_train_prepared_no_grades, y_train,\n",
    "                              scoring=\"neg_root_mean_squared_error\", cv=10)\n",
    "sgd_rmses_no_grades =  -cross_val_score(sgd_model_no_grades, X_train_prepared_no_grades, y_train,\n",
    "                              scoring=\"neg_root_mean_squared_error\", cv=10)\n",
    "ridge_rmses_no_grades = -cross_val_score(ridge_model_no_grades, X_train_prepared_no_grades, y_train,\n",
    "                              scoring=\"neg_root_mean_squared_error\", cv=10)\n"
   ]
  },
  {
   "cell_type": "markdown",
   "id": "d8346d48-222d-4471-a2db-722677ed4991",
   "metadata": {},
   "source": [
    "Here are the RMSE's for the data without grades."
   ]
  },
  {
   "cell_type": "code",
   "execution_count": 34,
   "id": "fb5a270d-e7f4-4ef8-8748-7608bc3cc968",
   "metadata": {},
   "outputs": [],
   "source": [
    "ols=pd.Series(ols_rmses_no_grades)\n",
    "sgd=pd.Series(sgd_rmses_no_grades)\n",
    "ridge=pd.Series(ridge_rmses_no_grades)"
   ]
  },
  {
   "cell_type": "code",
   "execution_count": 35,
   "id": "80847d6c-4a57-48e2-a04a-f53d364eade4",
   "metadata": {},
   "outputs": [
    {
     "data": {
      "text/html": [
       "<div>\n",
       "<style scoped>\n",
       "    .dataframe tbody tr th:only-of-type {\n",
       "        vertical-align: middle;\n",
       "    }\n",
       "\n",
       "    .dataframe tbody tr th {\n",
       "        vertical-align: top;\n",
       "    }\n",
       "\n",
       "    .dataframe thead th {\n",
       "        text-align: right;\n",
       "    }\n",
       "</style>\n",
       "<table border=\"1\" class=\"dataframe\">\n",
       "  <thead>\n",
       "    <tr style=\"text-align: right;\">\n",
       "      <th></th>\n",
       "      <th>0</th>\n",
       "      <th>1</th>\n",
       "      <th>2</th>\n",
       "      <th>3</th>\n",
       "      <th>4</th>\n",
       "      <th>5</th>\n",
       "      <th>6</th>\n",
       "      <th>7</th>\n",
       "      <th>8</th>\n",
       "      <th>9</th>\n",
       "    </tr>\n",
       "  </thead>\n",
       "  <tbody>\n",
       "    <tr>\n",
       "      <th>linear</th>\n",
       "      <td>4.714669</td>\n",
       "      <td>4.527971</td>\n",
       "      <td>3.561981</td>\n",
       "      <td>4.540446</td>\n",
       "      <td>4.994211</td>\n",
       "      <td>4.768774</td>\n",
       "      <td>4.860172</td>\n",
       "      <td>4.541936</td>\n",
       "      <td>4.201307</td>\n",
       "      <td>4.471549</td>\n",
       "    </tr>\n",
       "    <tr>\n",
       "      <th>SGD</th>\n",
       "      <td>4.563440</td>\n",
       "      <td>4.412913</td>\n",
       "      <td>3.853616</td>\n",
       "      <td>4.525851</td>\n",
       "      <td>5.441901</td>\n",
       "      <td>4.959396</td>\n",
       "      <td>4.992357</td>\n",
       "      <td>4.852761</td>\n",
       "      <td>4.151870</td>\n",
       "      <td>4.370891</td>\n",
       "    </tr>\n",
       "    <tr>\n",
       "      <th>Ridge</th>\n",
       "      <td>4.680365</td>\n",
       "      <td>4.530450</td>\n",
       "      <td>3.541920</td>\n",
       "      <td>4.528639</td>\n",
       "      <td>4.921382</td>\n",
       "      <td>4.736418</td>\n",
       "      <td>4.844024</td>\n",
       "      <td>4.523779</td>\n",
       "      <td>4.162853</td>\n",
       "      <td>4.389687</td>\n",
       "    </tr>\n",
       "  </tbody>\n",
       "</table>\n",
       "</div>"
      ],
      "text/plain": [
       "               0         1         2         3         4         5         6  \\\n",
       "linear  4.714669  4.527971  3.561981  4.540446  4.994211  4.768774  4.860172   \n",
       "SGD     4.563440  4.412913  3.853616  4.525851  5.441901  4.959396  4.992357   \n",
       "Ridge   4.680365  4.530450  3.541920  4.528639  4.921382  4.736418  4.844024   \n",
       "\n",
       "               7         8         9  \n",
       "linear  4.541936  4.201307  4.471549  \n",
       "SGD     4.852761  4.151870  4.370891  \n",
       "Ridge   4.523779  4.162853  4.389687  "
      ]
     },
     "execution_count": 35,
     "metadata": {},
     "output_type": "execute_result"
    }
   ],
   "source": [
    "pd.DataFrame([ols,sgd,ridge],index=['linear','SGD','Ridge'])"
   ]
  },
  {
   "cell_type": "markdown",
   "id": "f0c7f858-c62c-4c82-8c95-253a24681a91",
   "metadata": {},
   "source": [
    "Here is the dataframe for the RMSE's for each model without grades."
   ]
  },
  {
   "cell_type": "code",
   "execution_count": 36,
   "id": "3351812c-282a-4667-9516-b251a6178f4c",
   "metadata": {},
   "outputs": [
    {
     "data": {
      "text/html": [
       "<div>\n",
       "<style scoped>\n",
       "    .dataframe tbody tr th:only-of-type {\n",
       "        vertical-align: middle;\n",
       "    }\n",
       "\n",
       "    .dataframe tbody tr th {\n",
       "        vertical-align: top;\n",
       "    }\n",
       "\n",
       "    .dataframe thead th {\n",
       "        text-align: right;\n",
       "    }\n",
       "</style>\n",
       "<table border=\"1\" class=\"dataframe\">\n",
       "  <thead>\n",
       "    <tr style=\"text-align: right;\">\n",
       "      <th></th>\n",
       "      <th>0</th>\n",
       "    </tr>\n",
       "  </thead>\n",
       "  <tbody>\n",
       "    <tr>\n",
       "      <th>linear</th>\n",
       "      <td>4.518302</td>\n",
       "    </tr>\n",
       "    <tr>\n",
       "      <th>SGD</th>\n",
       "      <td>4.612500</td>\n",
       "    </tr>\n",
       "    <tr>\n",
       "      <th>Ridge</th>\n",
       "      <td>4.485952</td>\n",
       "    </tr>\n",
       "  </tbody>\n",
       "</table>\n",
       "</div>"
      ],
      "text/plain": [
       "               0\n",
       "linear  4.518302\n",
       "SGD     4.612500\n",
       "Ridge   4.485952"
      ]
     },
     "execution_count": 36,
     "metadata": {},
     "output_type": "execute_result"
    }
   ],
   "source": [
    "ols_mean_no_grades=np.mean(ols_rmses_no_grades)\n",
    "sgd_mean_no_grades=np.mean(sgd_rmses_no_grades)\n",
    "ridge_mean_no_grades=np.mean(ridge_rmses_no_grades)\n",
    "pd.DataFrame([ols_mean_no_grades,sgd_mean_no_grades,ridge_mean_no_grades],index=['linear','SGD','Ridge'])"
   ]
  },
  {
   "cell_type": "markdown",
   "id": "c6dd041f-4d37-4d63-86c7-4dcf74f36367",
   "metadata": {},
   "source": [
    "Here is the dataframe for the model rmse's without grades mean. This allows us to tell which model is best on average on the 10 iterations.\n",
    "\n",
    "Notice that Ridge is our lowest, but our Model's error is over double what the above data with grades had. \n",
    "That makes sense, including our column with the largest correlation should help our model be more accurate. "
   ]
  },
  {
   "cell_type": "markdown",
   "id": "c7b026f3-79e2-468d-84b4-888f3b499a64",
   "metadata": {},
   "source": [
    "## Fine-Tune"
   ]
  },
  {
   "cell_type": "markdown",
   "id": "8c91d903-34fe-47e2-91aa-e8367fde3b5c",
   "metadata": {},
   "source": [
    "### Alter Hyperparameters"
   ]
  },
  {
   "cell_type": "code",
   "execution_count": 37,
   "id": "4ba6c4f0-08ff-48db-a669-5e2d1e00dadf",
   "metadata": {},
   "outputs": [
    {
     "name": "stdout",
     "output_type": "stream",
     "text": [
      "Fitting 10 folds for each of 9 candidates, totalling 90 fits\n"
     ]
    }
   ],
   "source": [
    "from sklearn.model_selection import GridSearchCV\n",
    "\n",
    "ridge_param_grid={'alpha': [.25, .5, .75, 1, 2, 3, 5, 10, 100]}\n",
    "grid_search_cv_ridge_grades=GridSearchCV(ridge_model,ridge_param_grid, verbose=1,cv=10)\n",
    "grid_search_cv_ridge_grades.fit(X_train_prepared_grades, y_train)\n",
    "ridge_model_grades = grid_search_cv_ridge_grades.best_estimator_"
   ]
  },
  {
   "cell_type": "markdown",
   "id": "9c922aa0-925c-4afd-a4d5-8f9e6ee5b2de",
   "metadata": {},
   "source": [
    "We want to check our chosen model (Ridge model) with various Hyperparameters. Ridge Regression utilizes something called alpha, which controls how regular the data gets, attempting to limit overfitting our training data. \n",
    "This is checking 9 different values for alpha, and it is going to chose our best fit for the model with grades. "
   ]
  },
  {
   "cell_type": "code",
   "execution_count": 38,
   "id": "fabcbe71-b26d-4ab9-8b00-7b8e712fefe3",
   "metadata": {},
   "outputs": [
    {
     "name": "stdout",
     "output_type": "stream",
     "text": [
      "Fitting 10 folds for each of 9 candidates, totalling 90 fits\n"
     ]
    }
   ],
   "source": [
    "grid_search_cv_ridge_no_grades=GridSearchCV(ridge_model,ridge_param_grid, verbose=1,cv=10)\n",
    "grid_search_cv_ridge_no_grades.fit(X_train_prepared_no_grades, y_train)\n",
    "ridge_model_no_grades = grid_search_cv_ridge_no_grades.best_estimator_"
   ]
  },
  {
   "cell_type": "markdown",
   "id": "e87a9d5c-8994-46c2-88a8-afed0142579c",
   "metadata": {},
   "source": [
    "We are checking the same alpha values on the data with no grades, but just a note, this may have a different alpha value which helps this particular model be more accurate. We will grab the best estimator in that last line and create our ridge model without grades. "
   ]
  },
  {
   "cell_type": "markdown",
   "id": "d5b10a85-b7a2-4bae-8ba3-44d31e0e7a1a",
   "metadata": {},
   "source": [
    "### Transform Testing Data"
   ]
  },
  {
   "cell_type": "code",
   "execution_count": 39,
   "id": "8dbe06a6-13ba-449c-a408-71d637400a06",
   "metadata": {},
   "outputs": [],
   "source": [
    "X_test_2=X_test.copy()\n",
    "X_test_prepared_grades = preprocessing_2.transform(X_test)"
   ]
  },
  {
   "cell_type": "markdown",
   "id": "1855087a-7a0f-452e-ad8b-ce24290d9466",
   "metadata": {},
   "source": [
    "We are processing our Test data without grades and getting it ready for the following. \n",
    "\n",
    "Very important that we do not fit the data to preprocessing. \n",
    "For the training data above, we fit and transformed, here just transform, otherwise our data could be biased to our model. "
   ]
  },
  {
   "cell_type": "code",
   "execution_count": 40,
   "id": "832aa708-1490-4f23-b220-1d315fbfbd0a",
   "metadata": {},
   "outputs": [],
   "source": [
    "X_test_prepared_no_grades = preprocessing_1.transform(X_test_2)"
   ]
  },
  {
   "cell_type": "markdown",
   "id": "35bbf9d4-fd8e-4748-a404-8e3369669e6a",
   "metadata": {},
   "source": [
    "Same but with the data without grades."
   ]
  },
  {
   "cell_type": "markdown",
   "id": "e7ce83b7-2894-414f-bc07-b2f964f57641",
   "metadata": {},
   "source": [
    "### Final Model/Performance"
   ]
  },
  {
   "cell_type": "code",
   "execution_count": 41,
   "id": "39e38f39-87ab-4832-9a0f-008a9100ad88",
   "metadata": {},
   "outputs": [],
   "source": [
    "ridge_pred_grades=ridge_model_grades.predict(X_test_prepared_grades)\n",
    "ridge_pred_no_grades=ridge_model_no_grades.predict(X_test_prepared_no_grades)\n"
   ]
  },
  {
   "cell_type": "markdown",
   "id": "d2ccbd3b-7c2b-4787-b34a-399fc6c2bec3",
   "metadata": {},
   "source": [
    "Here are our predictions both with and without grades utilized."
   ]
  },
  {
   "cell_type": "code",
   "execution_count": 42,
   "id": "d5b01503-4dbe-4d74-9729-a40f1539dc88",
   "metadata": {},
   "outputs": [],
   "source": [
    "from sklearn.metrics import mean_squared_error, r2_score\n",
    "\n",
    "rmse_ridge_grades = mean_squared_error(y_test,ridge_pred_grades,squared=False).round(4)\n",
    "r2_ridge_grades = r2_score(y_test,ridge_pred_grades).round(4)"
   ]
  },
  {
   "cell_type": "markdown",
   "id": "647385e1-81f8-4bbe-844f-132ca2804002",
   "metadata": {},
   "source": [
    "In this cell we are checking our model's efficiency by using our mean squared error and an R2 score which we discussed at the beginning. "
   ]
  },
  {
   "cell_type": "code",
   "execution_count": 43,
   "id": "9c034deb-6a2d-49f8-9fa2-0234d96ca4a3",
   "metadata": {},
   "outputs": [
    {
     "name": "stdout",
     "output_type": "stream",
     "text": [
      "2.3177\n",
      "0.738\n"
     ]
    }
   ],
   "source": [
    "print(rmse_ridge_grades)\n",
    "print(r2_ridge_grades)"
   ]
  },
  {
   "cell_type": "markdown",
   "id": "2dab0120-3d49-4a7c-bbf9-c310fe2a3ac7",
   "metadata": {},
   "source": [
    "For our model with grades, our Mean squared error is at a 2.3177, which is good, the closer to 0 the better.\n",
    "Our R2 score is at a 0.738, which is almost a pass. Anything above 0.7 is a pass. A 0.738 means that almost 74% of the variation is explained by our predictors. In other words 74ish% is explained, so our model is fairly accurate. "
   ]
  },
  {
   "cell_type": "code",
   "execution_count": 44,
   "id": "76ee73cd-4983-40ff-bf2e-318a27a8237f",
   "metadata": {},
   "outputs": [],
   "source": [
    "rmse_ridge_no_grades = mean_squared_error(y_test,ridge_pred_no_grades,squared=False).round(4)\n",
    "r2_ridge_no_grades = r2_score(y_test,ridge_pred_no_grades).round(4)"
   ]
  },
  {
   "cell_type": "code",
   "execution_count": 45,
   "id": "b304a79d-8e05-4872-9a60-b3ea5d33d245",
   "metadata": {
    "scrolled": true
   },
   "outputs": [
    {
     "name": "stdout",
     "output_type": "stream",
     "text": [
      "4.1597\n",
      "0.1561\n"
     ]
    }
   ],
   "source": [
    "print(rmse_ridge_no_grades)\n",
    "print(r2_ridge_no_grades)"
   ]
  },
  {
   "cell_type": "markdown",
   "id": "6671d77b-ac57-468e-9173-79ddeb299d25",
   "metadata": {},
   "source": [
    "This is the same steps but for the no grades data. First things we notice is that the RMSE is at a 4.1597, which is ~180% of our model with grades. \n",
    "That is not great. \n",
    "\n",
    "The worst part is that our R2 score is at a 0.1561, which means that ~16% of the variation is explained. That is not great, so our model without grades is a failure. "
   ]
  },
  {
   "cell_type": "markdown",
   "id": "a7f70cd4-baaf-42e2-8fc7-2f8cf7e26b82",
   "metadata": {},
   "source": [
    "## Conclusion"
   ]
  },
  {
   "cell_type": "markdown",
   "id": "2981256e-219b-4fd4-b937-5754355deb20",
   "metadata": {},
   "source": [
    "Our problem that we set out to fix was that too many students were failing. We wanted to set out to fix that by early identification of our At-Risk students and allow us the stakeholders help stop it before it happens. \n",
    "\n",
    "Our duty is to help these students before they fall through the cracks and help set up their life to flourish, and this model could help that be done. If we can know who is at risk to fail from the beginning, we could help those students before they dig themselves a hole large enough to swallow their future. \n",
    "\n",
    "I set out to create two models, one using their grades from previous terms and one without, so that you could use this model at the beginning of the year, and also before the third term to allow as much flexibility as possible. Utilizing the grades created a model that closely predicts who passes or fails. That means at the beginning of the third term you are more likely to predict who will pass or fail. That makes sense. \n",
    "\n",
    "However, our prediction without grades was a failure. It still predicts who will pass or fail, but at a very low rate of success, and that means it is not very accurate. Anything at the beginnning of the year is better than nothing, and it will still allow you as a school identify some students at the beginning of the year to help out. "
   ]
  },
  {
   "cell_type": "markdown",
   "id": "b1e178c0-1841-4f8e-94b9-1afbdb999b7e",
   "metadata": {},
   "source": [
    "## Evaluate"
   ]
  },
  {
   "cell_type": "markdown",
   "id": "741b446c-941e-4a0a-8eb5-5ab88186d0ae",
   "metadata": {},
   "source": [
    "This project was a success as we created and found a model that accurately predicts failures and allows the stakeholders to get in and help the students right the ship before it takes on too much water. \n",
    "\n",
    "My pipeline took a long time to get right, as I kept getting error messages and error messages, and I eventually just created two pipelines to help us out in that regard. I believe that was an adequate solution as it worked in the end. \n",
    "\n",
    "The second model is a failure, and that bothers me, I wish I could have found a better model to be even more accurate to help catch those students earlier and allow even less problems to happen. However, even one student saved is worth running our data anyways. \n",
    "\n",
    "I would utilize this data to evaluate what habits help students succeed. For example, how much studying is best, are nursery's helpful, are students better when parents are together, etc. That way we as a school can release to the students what actually helps them and what does not. A lot of kids want to do what is best for their flourishing, but does not always know what is best, or how to go about finding that answer. We as a school and a community can step in and help show them how to pass and flourish. "
   ]
  },
  {
   "cell_type": "code",
   "execution_count": null,
   "id": "8f6429b7-f382-4265-a92e-320dc6d438cd",
   "metadata": {},
   "outputs": [],
   "source": []
  }
 ],
 "metadata": {
  "kernelspec": {
   "display_name": "Python [conda env:base] *",
   "language": "python",
   "name": "conda-base-py"
  },
  "language_info": {
   "codemirror_mode": {
    "name": "ipython",
    "version": 3
   },
   "file_extension": ".py",
   "mimetype": "text/x-python",
   "name": "python",
   "nbconvert_exporter": "python",
   "pygments_lexer": "ipython3",
   "version": "3.9.18"
  }
 },
 "nbformat": 4,
 "nbformat_minor": 5
}
